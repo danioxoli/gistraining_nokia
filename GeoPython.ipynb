{
 "cells": [
  {
   "cell_type": "markdown",
   "id": "01f31467-023d-4490-9b38-e6e93e98b0ff",
   "metadata": {},
   "source": [
    "# *[Nokia] Percorso Cognitive 2022 modulo Geographic information system (GIS)*\n",
    "## **GeoPandas**"
   ]
  },
  {
   "attachments": {
    "63e0866a-5388-4b53-8353-e8d5272f18ad.png": {
     "image/png": "[encoded data removed]"
    }
   },
   "cell_type": "markdown",
   "id": "420a5d3a",
   "metadata": {},
   "source": [
    "![immagine.png](attachment:63e0866a-5388-4b53-8353-e8d5272f18ad.png)\n",
    "\n",
    "[**<span style='color:Blue'>GeoPandas </span>**](https://geopandas.org) is a module which enables users to easily do geospatial operations on geospatial vector data in Python.\n",
    "\n",
    "It combines: \n",
    "\n",
    "- [**Pandas**](https://pandas.pydata.org) datatypes and functionalities\n",
    "\n",
    "- [**Shapely**](https://shapely.readthedocs.io) geometric objects and operations\n",
    "\n",
    "- [**Fiona**](https://github.com/Toblerity/Fiona) capabilities for file access\n",
    "\n",
    "- [**Matplotlib**](https://matplotlib.org) plotting functionalities"
   ]
  },
  {
   "cell_type": "markdown",
   "id": "58d845ea",
   "metadata": {},
   "source": [
    "### **Reading vector data** with GeoPandas\n",
    "\n",
    "Geopandas reads almost all vector spatial data format (including ESRI Shapefile and GeoJSON files) using the command [read_file()](https://geopandas.org/en/stable/docs/reference/api/geopandas.read_file.html?highlight=read_#geopandas.read_file) which returns a [GeoDataFrame object](https://geopandas.org/en/stable/docs/reference/geodataframe.html?highlight=geodataframe)"
   ]
  },
  {
   "cell_type": "code",
   "execution_count": null,
   "id": "5165f9fc",
   "metadata": {},
   "outputs": [],
   "source": [
    "# Import necessary modules\n",
    "import geopandas as gpd "
   ]
  },
  {
   "cell_type": "code",
   "execution_count": null,
   "id": "f08facbb",
   "metadata": {},
   "outputs": [],
   "source": [
    "# Read file using gpd.read_file()\n",
    "world = gpd.read_file(\"world_countries.gpkg\", layer='countries')\n",
    "world "
   ]
  },
  {
   "cell_type": "markdown",
   "id": "f8b6a112",
   "metadata": {},
   "source": [
    "<font color='blue'>**TIP**:</font>  [Reading options](https://geopandas.org/docs/user_guide/io.html) of GeoPandas for different spatial data files and formats "
   ]
  },
  {
   "cell_type": "markdown",
   "id": "1b213205",
   "metadata": {},
   "source": [
    "### **Exploring data** with GeoPandas\n",
    "\n",
    "GeoPandas GeoDataFrame can use all the functionalities available for Pandas DataFrame. Moreover, it provides some functionalities to plot data by taking advantage of Matplotlib library"
   ]
  },
  {
   "cell_type": "code",
   "execution_count": null,
   "id": "5fb0edc7",
   "metadata": {},
   "outputs": [],
   "source": [
    "# Get the type of the GeoDataFrame\n",
    "type(world)"
   ]
  },
  {
   "cell_type": "code",
   "execution_count": null,
   "id": "b65daec2",
   "metadata": {},
   "outputs": [],
   "source": [
    "# Explore the first 5 rows of the GeoDataFrame\n",
    "world.head()"
   ]
  },
  {
   "cell_type": "code",
   "execution_count": null,
   "id": "35b09e94",
   "metadata": {},
   "outputs": [],
   "source": [
    "# Print only the column NAME of the GeoDataFrame\n",
    "world['NAME']"
   ]
  },
  {
   "cell_type": "code",
   "execution_count": null,
   "id": "5aaef964",
   "metadata": {},
   "outputs": [],
   "source": [
    "# Plot the GeoDataframe\n",
    "world.plot()"
   ]
  },
  {
   "cell_type": "markdown",
   "id": "ad980761",
   "metadata": {},
   "source": [
    "It is possible to obtain information about the [Cordinate Reference System (CRS)](https://docs.qgis.org/3.22/en/docs/gentle_gis_introduction/coordinate_reference_systems.html) of the GeoDataFrame using the [.crs](https://geopandas.org/en/stable/docs/reference/api/geopandas.GeoDataFrame.crs.html?highlight=.crs) attribute.\n",
    "\n",
    "The **.crs** attribute returns the [European Petroleum Survey Group (**EPSG**)](https://epsg.org/home.html) code and the CRS parameters. The **EPSG** is a collection of definitions of coordinate reference systems and coordinate transformations which may be global, regional, national or local."
   ]
  },
  {
   "cell_type": "code",
   "execution_count": null,
   "id": "552677ff",
   "metadata": {},
   "outputs": [],
   "source": [
    "# Get information about CRS \n",
    "world.crs"
   ]
  },
  {
   "cell_type": "markdown",
   "id": "afbe16b6",
   "metadata": {
    "tags": []
   },
   "source": [
    "### **Writing vector data** with GeoPandas\n",
    "\n",
    "Writing a new vector data is a functionality which is frequently needed. GeoPandas provides [to_file()](https://geopandas.org/en/stable/docs/reference/api/geopandas.GeoDataFrame.to_file.html?highlight=to_file) function to perform this task.\n"
   ]
  },
  {
   "cell_type": "code",
   "execution_count": null,
   "id": "ae6f6a85",
   "metadata": {},
   "outputs": [],
   "source": [
    "# Extract southern european countries and save them in a new file\n",
    "s_europe = world[world['SUBREGION'] == 'Southern Europe']"
   ]
  },
  {
   "cell_type": "code",
   "execution_count": null,
   "id": "fe2858d9",
   "metadata": {},
   "outputs": [],
   "source": [
    "# Write the selection into a new shapefile\n",
    "s_europe.to_file(\"s_europe.gpkg\", layer='s_europe_countries', driver=\"GPKG\")"
   ]
  },
  {
   "cell_type": "markdown",
   "id": "61074ed0",
   "metadata": {
    "tags": []
   },
   "source": [
    "### **Geometries** in GeoPandas\n",
    "\n",
    "Geopandas takes advantage of Shapely geometry objects, thus it is possible to use all of the functionalities of the Shapely module. Geometries are stored in a column called by default **geometry**."
   ]
  },
  {
   "cell_type": "code",
   "execution_count": null,
   "id": "d0d875cd",
   "metadata": {},
   "outputs": [],
   "source": [
    "# Print the geometry column\n",
    "s_europe['geometry']"
   ]
  },
  {
   "cell_type": "code",
   "execution_count": null,
   "id": "f12fb5a9",
   "metadata": {},
   "outputs": [],
   "source": [
    "# Create a new column AREA into the GeoDataFrame \n",
    "s_europe['AREA'] = 0.0\n",
    "s_europe"
   ]
  },
  {
   "cell_type": "code",
   "execution_count": null,
   "id": "9abc2585",
   "metadata": {},
   "outputs": [],
   "source": [
    "# Update the AREA column with the area values\n",
    "s_europe['AREA'] = s_europe.area\n",
    "s_europe[['AREA','SOVEREIGNT']]"
   ]
  },
  {
   "cell_type": "code",
   "execution_count": null,
   "id": "0c88a6d7",
   "metadata": {},
   "outputs": [],
   "source": [
    "# Calculate some statistics\n",
    "s_europe['AREA'].min()"
   ]
  },
  {
   "cell_type": "code",
   "execution_count": null,
   "id": "2f9ad627",
   "metadata": {},
   "outputs": [],
   "source": [
    "s_europe['AREA'].max()"
   ]
  },
  {
   "cell_type": "markdown",
   "id": "a36d7cd5-eb8e-4a61-bf1c-a3408aef9e1a",
   "metadata": {},
   "source": [
    "> **WARNING**: The geometric operations, such as **.area** are computed in the actual CRS of the GeoDataframe. The area may be invalid for a geographic CRS using degrees as units. Use [GeoSeries.to_crs()](https://geopandas.org/en/stable/docs/reference/api/geopandas.GeoSeries.to_crs.html#geopandas.GeoSeries.to_crs) to project geometries to a planar CRS before using this function. "
   ]
  },
  {
   "cell_type": "markdown",
   "id": "7963c97f-eef2-406d-9a70-3f8cc1cbda52",
   "metadata": {},
   "source": [
    "### Manage **map projections** in GeoPandas.\n",
    "\n",
    "GeoPandas provides dedicated function to manage [map projections and Coordinate Reference Systems](https://geopandas.org/en/stable/docs/user_guide/projections.html?highlight=projections) of the data. "
   ]
  },
  {
   "cell_type": "code",
   "execution_count": null,
   "id": "c76d0f1d",
   "metadata": {},
   "outputs": [],
   "source": [
    "# Get the current CRS\n",
    "s_europe.crs"
   ]
  },
  {
   "cell_type": "code",
   "execution_count": null,
   "id": "7ea555da",
   "metadata": {},
   "outputs": [],
   "source": [
    "# Display the coordinates\n",
    "s_europe['geometry']"
   ]
  },
  {
   "cell_type": "code",
   "execution_count": null,
   "id": "f9a299d9",
   "metadata": {},
   "outputs": [],
   "source": [
    "# Create a new GeoDataFrame as a copy\n",
    "s_europe_proj = s_europe.copy()"
   ]
  },
  {
   "cell_type": "code",
   "execution_count": null,
   "id": "046444d7",
   "metadata": {},
   "outputs": [],
   "source": [
    "# Re-project the new GeoDataFrame to ETRS-LAEA projection\n",
    "s_europe_proj  = s_europe_proj.to_crs(epsg=3035)"
   ]
  },
  {
   "cell_type": "code",
   "execution_count": null,
   "id": "157e3360",
   "metadata": {},
   "outputs": [],
   "source": [
    "# Check the new geometry column\n",
    "s_europe_proj['geometry']"
   ]
  },
  {
   "cell_type": "code",
   "execution_count": null,
   "id": "eef04b69",
   "metadata": {},
   "outputs": [],
   "source": [
    "# Check the CRS\n",
    "s_europe_proj.crs"
   ]
  },
  {
   "cell_type": "code",
   "execution_count": null,
   "id": "d9543f65",
   "metadata": {},
   "outputs": [],
   "source": [
    "# Plot Southern Europe Shapefile in WGS84\n",
    "s_europe.plot(facecolor='gray')"
   ]
  },
  {
   "cell_type": "code",
   "execution_count": null,
   "id": "7925f853",
   "metadata": {},
   "outputs": [],
   "source": [
    "# Plot Southern Europe Shapefile in ETRS-LAEA\n",
    "s_europe_proj.plot(facecolor='blue')"
   ]
  },
  {
   "cell_type": "markdown",
   "id": "669d1090-fef3-4c5b-a99c-11f511dbed87",
   "metadata": {
    "tags": []
   },
   "source": [
    "### **Geocoding** in GeoPandas\n",
    "\n",
    "GeoPandas integrates many libraries for converting addresses into coordinates or vice versa, e.g [**<span style='color:Blue'>GeoPy </span>**](https://geopy.readthedocs.io/en/stable). GeoPy is used to locate the coordinates of addresses using different third-party geocoders, i.e. services that perform the geocoding:\n",
    "- [ESRI ArcGIS](https://developers.arcgis.com/documentation/mapping-apis-and-services/search/geocoding)\n",
    "- [Bing](https://docs.microsoft.com/en-us/bingmaps/rest-services/locations)\n",
    "- [Google Geocoding API](https://developers.google.com/maps/documentation/geocoding/start)\n",
    "- [GeoNames](http://www.geonames.org)\n",
    "- [OpenMapQuest](https://developer.mapquest.com/documentation/open/geocoding-api)\n",
    "- [OpenStreetMap Nominatim](https://nominatim.org/)\n",
    "- …"
   ]
  },
  {
   "cell_type": "markdown",
   "id": "17040259-3f11-4342-90e1-435c56581861",
   "metadata": {},
   "source": [
    "The [.geocode()](https://geopandas.org/en/stable/docs/reference/api/geopandas.tools.geocode.html#geopandas.tools.geocode) function of Geopy is integrated into GeoPandas. This function can geocode a list of addresses (strings) and return a GeoDataFrame containing the resulting point objects coordinates in the *geometry* column."
   ]
  },
  {
   "cell_type": "code",
   "execution_count": null,
   "id": "5a729a2e-6b62-4178-9ed9-4cb92c51aebb",
   "metadata": {},
   "outputs": [],
   "source": [
    "# Import necessary modules\n",
    "import pandas as pd\n",
    "from shapely.geometry import Point"
   ]
  },
  {
   "cell_type": "code",
   "execution_count": null,
   "id": "bbf52106",
   "metadata": {},
   "outputs": [],
   "source": [
    "# Download addresses_H.txt file and store it as Pandas DataFrame\n",
    "data = pd.read_csv(\"addresses_H.txt\", sep=';')\n",
    "data"
   ]
  },
  {
   "cell_type": "code",
   "execution_count": null,
   "id": "59e45032-1bca-4c08-a1ec-e2bbbc99e99c",
   "metadata": {},
   "outputs": [],
   "source": [
    "# Import the geocoding tool of GeoPandas\n",
    "from geopandas.tools import geocode\n",
    "import geopy"
   ]
  },
  {
   "cell_type": "code",
   "execution_count": null,
   "id": "9fffe11c",
   "metadata": {},
   "outputs": [],
   "source": [
    "# Geocode addresses with OSM Nominatim backend\n",
    "geopy.geocoders.options.default_user_agent = \"test_nokia\"\n",
    "geo = geocode(data['addr'], provider='nominatim', timeout=None, user_agent=\"test_nokia\")"
   ]
  },
  {
   "cell_type": "markdown",
   "id": "a652519c-482e-40b6-b7ec-4c48dfe1a752",
   "metadata": {},
   "source": [
    "What is the <font color='blue'>**user_agent**</font> parameter for **OSM Nominatim** in GeoPy? -> https://geopy.readthedocs.io/en/stable/index.html#nominatim "
   ]
  },
  {
   "cell_type": "code",
   "execution_count": null,
   "id": "20aa974f",
   "metadata": {},
   "outputs": [],
   "source": [
    "# Plot the GeoDataFrame\n",
    "geo.plot()"
   ]
  },
  {
   "cell_type": "code",
   "execution_count": null,
   "id": "0e9e60a3-8a2c-4db5-b121-491190d00654",
   "metadata": {},
   "outputs": [],
   "source": [
    "# Check the GeoDataFrame CRS\n",
    "geo.crs"
   ]
  },
  {
   "cell_type": "markdown",
   "id": "8ea3466d-6778-42eb-961b-0795892d42d1",
   "metadata": {
    "tags": []
   },
   "source": [
    "### **Spatial Join** in GeoPandas \n",
    "\n",
    "**Join attributes from one feature to another based on the spatial relationship** is another classic GIS problem.\n",
    "GeoPandas provides the spatial join function [.sjoin()](https://geopandas.org/en/stable/docs/reference/api/geopandas.sjoin.html) with a line of code, e.g. ``geopandas.sjoin(left_df, right_df, how, predicate)``.\n",
    "\n",
    "The **how** option works as the one of the ***.merge()*** function. The **predicate** option determines the type of join operation to apply, Shapely binary predicates can be used, e.g.:\n",
    "\n",
    "- intersects\n",
    "- within\n",
    "- contains"
   ]
  },
  {
   "cell_type": "markdown",
   "id": "1640dfbe-1156-4590-9245-966086c82f94",
   "metadata": {},
   "source": [
    "Practical example: **Perform a spatial join** to associate the attribute table **of each café point with the information about the corresponding zone in Milan**. \n",
    "\n",
    "Use the [GeoPackage](https://www.geopackage.org/) file *milan.gpkg* that contains 2 layers:\n",
    "\n",
    "- **'cafe'**: cafes of Milan\n",
    "- **'MI_zones'**: municipalities of Milan"
   ]
  },
  {
   "cell_type": "code",
   "execution_count": null,
   "id": "dfa52962",
   "metadata": {},
   "outputs": [],
   "source": [
    "# Import cafe\n",
    "cafe = gpd.read_file('milan.gpkg', layer='cafe')\n",
    "cafe.plot()"
   ]
  },
  {
   "cell_type": "code",
   "execution_count": null,
   "id": "fc17b1ec",
   "metadata": {},
   "outputs": [],
   "source": [
    "# Import MI_zones\n",
    "MI_zones = gpd.read_file('milan.gpkg', layer='MI_zones')"
   ]
  },
  {
   "cell_type": "code",
   "execution_count": null,
   "id": "a90129d0-b9d5-4b0f-b322-40de2203718d",
   "metadata": {},
   "outputs": [],
   "source": [
    "# Plot the MI_zones with custom options\n",
    "MI_zones.plot(column='MUNICIPIO', legend=True, cmap='OrRd')"
   ]
  },
  {
   "cell_type": "code",
   "execution_count": null,
   "id": "54480198",
   "metadata": {},
   "outputs": [],
   "source": [
    "# Perform the spatial join\n",
    "join = gpd.sjoin(cafe, MI_zones, how=\"inner\", op=\"within\")"
   ]
  },
  {
   "cell_type": "code",
   "execution_count": null,
   "id": "874fbc29-5dbd-41e9-bf63-67b3716f71ea",
   "metadata": {},
   "outputs": [],
   "source": [
    "# Plot the result of the spatial join with custom options\n",
    "join.plot(column='MUNICIPIO', legend=True, cmap='OrRd')"
   ]
  },
  {
   "cell_type": "markdown",
   "id": "1af27883-443a-43cc-a9b7-7ce11183cb81",
   "metadata": {},
   "source": [
    "### GeoPandas with **Rasterio** to **sample point data**\n",
    "\n",
    "This example shows how to use GeoPandas with Rasterio.  [**Rasterio**](https://rasterio.readthedocs.io/en/latest/index.html) is a package for reading and writing raster data. In this example a set of vector points is used to sample raster data at those points. The raster data used is a Sentinel-2 data from 2018."
   ]
  },
  {
   "cell_type": "code",
   "execution_count": null,
   "id": "efc13cc2-8e81-45aa-9bda-09f44ad1aa04",
   "metadata": {},
   "outputs": [],
   "source": [
    "import rasterio\n",
    "import matplotlib.pyplot as plt\n",
    "from shapely.geometry import Point"
   ]
  },
  {
   "cell_type": "markdown",
   "id": "b1592d01-0b7e-4a39-b28b-3fc80797e220",
   "metadata": {},
   "source": [
    "Generate a GeoDataFrame from a set of points"
   ]
  },
  {
   "cell_type": "code",
   "execution_count": null,
   "id": "dfe7423c-4da8-4512-8be6-d3d4cd8cd7aa",
   "metadata": {},
   "outputs": [],
   "source": [
    "# Create sampling points\n",
    "points = [\n",
    "    Point(625466, 5621289),\n",
    "    Point(626082, 5621627),\n",
    "    Point(627116, 5621680),\n",
    "    Point(625095, 5622358),\n",
    "]\n",
    "gdf = gpd.GeoDataFrame([1, 2, 3, 4], geometry=points, crs=32630)"
   ]
  },
  {
   "cell_type": "code",
   "execution_count": null,
   "id": "21f7e0d9-0a95-4d9d-a0d0-6e099132ce4b",
   "metadata": {},
   "outputs": [],
   "source": [
    "# The GeoDataFrame looks like this:\n",
    "gdf.head()"
   ]
  },
  {
   "cell_type": "markdown",
   "id": "4eb9837b-f41e-48d8-9126-ad42a5e3150c",
   "metadata": {},
   "source": [
    "Use **rasterio** to open the raster data to be sampled"
   ]
  },
  {
   "cell_type": "code",
   "execution_count": null,
   "id": "c2306908-401b-49f0-abda-e8e2d3728910",
   "metadata": {},
   "outputs": [],
   "source": [
    "src = rasterio.open(\"s2a_l2a_fishbourne.tif\")"
   ]
  },
  {
   "cell_type": "code",
   "execution_count": null,
   "id": "d3a45a00-27cb-4f7d-9646-2fb3543d10c1",
   "metadata": {},
   "outputs": [],
   "source": [
    "# Plot the multiband raster\n",
    "from rasterio.plot import show\n",
    "\n",
    "fig, ax = plt.subplots()\n",
    "\n",
    "# transform rasterio plot to real world coords\n",
    "extent = [src.bounds[0], src.bounds[2], src.bounds[1], src.bounds[3]]\n",
    "ax = rasterio.plot.show(src, extent=extent, ax=ax, cmap=\"pink\")\n",
    "\n",
    "gdf.plot(ax=ax)"
   ]
  },
  {
   "cell_type": "markdown",
   "id": "fd73f60c-6899-4232-97d5-22ca69fac091",
   "metadata": {},
   "source": [
    "Sampling the data"
   ]
  },
  {
   "cell_type": "code",
   "execution_count": null,
   "id": "de4fcab5-fdc3-4636-8e4a-687ef390711e",
   "metadata": {},
   "outputs": [],
   "source": [
    "coord_list = [(x, y) for x, y in zip(gdf[\"geometry\"].x, gdf[\"geometry\"].y)]\n",
    "gdf[\"value\"] = [x for x in src.sample(coord_list)]\n",
    "gdf.head()"
   ]
  }
 ],
 "metadata": {
  "kernelspec": {
   "display_name": "Python 3 (ipykernel)",
   "language": "python",
   "name": "python3"
  },
  "language_info": {
   "codemirror_mode": {
    "name": "ipython",
    "version": 3
   },
   "file_extension": ".py",
   "mimetype": "text/x-python",
   "name": "python",
   "nbconvert_exporter": "python",
   "pygments_lexer": "ipython3",
   "version": "3.7.12"
  }
 },
 "nbformat": 4,
 "nbformat_minor": 5
}
